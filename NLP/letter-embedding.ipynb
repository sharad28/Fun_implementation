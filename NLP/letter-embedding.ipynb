{
  "nbformat": 4,
  "nbformat_minor": 0,
  "metadata": {
    "colab": {
      "provenance": [],
      "authorship_tag": "ABX9TyPw0oX8OVfw0RkLEs3XpEbA",
      "include_colab_link": true
    },
    "kernelspec": {
      "name": "python3",
      "display_name": "Python 3"
    },
    "language_info": {
      "name": "python"
    }
  },
  "cells": [
    {
      "cell_type": "markdown",
      "metadata": {
        "id": "view-in-github",
        "colab_type": "text"
      },
      "source": [
        "<a href=\"https://colab.research.google.com/github/sharad28/Fun_implementation/blob/main/NLP/letter-embedding.ipynb\" target=\"_parent\"><img src=\"https://colab.research.google.com/assets/colab-badge.svg\" alt=\"Open In Colab\"/></a>"
      ]
    },
    {
      "cell_type": "code",
      "execution_count": 1,
      "metadata": {
        "id": "3hUyY2PlljAy"
      },
      "outputs": [],
      "source": [
        "import pandas as pd\n",
        "import numpy as np\n",
        "import tensorflow as tf\n",
        "import urllib.request as req"
      ]
    },
    {
      "cell_type": "code",
      "source": [
        "#download csv file from https://dataverse.harvard.edu/dataset.xhtml?persistentId=doi:10.7910/DVN/SYBGZL\n",
        "filename = '/content/abcnews-date-text.csv'"
      ],
      "metadata": {
        "id": "KIvAnD5el5ng"
      },
      "execution_count": 2,
      "outputs": []
    },
    {
      "cell_type": "code",
      "source": [
        "headlines = pd.read_csv(filename)\n",
        "headlines = headlines['headline_text']"
      ],
      "metadata": {
        "id": "FYcRA4dXtRU_"
      },
      "execution_count": 3,
      "outputs": []
    },
    {
      "cell_type": "code",
      "source": [
        "headlines.head()    "
      ],
      "metadata": {
        "id": "wbkDgSJ6tWWY",
        "outputId": "299379af-85c8-4ec5-a66f-51986ffa1e66",
        "colab": {
          "base_uri": "https://localhost:8080/"
        }
      },
      "execution_count": 4,
      "outputs": [
        {
          "output_type": "execute_result",
          "data": {
            "text/plain": [
              "0    aba decides against community broadcasting lic...\n",
              "1       act fire witnesses must be aware of defamation\n",
              "2       a g calls for infrastructure protection summit\n",
              "3             air nz staff in aust strike for pay rise\n",
              "4        air nz strike to affect australian travellers\n",
              "Name: headline_text, dtype: object"
            ]
          },
          "metadata": {},
          "execution_count": 4
        }
      ]
    },
    {
      "cell_type": "code",
      "source": [
        "def sliding_window(text):\n",
        "  N = len(text) - 1\n",
        "  for i in range(N):\n",
        "    yield text[i],text[i+1]\n"
      ],
      "metadata": {
        "id": "ONbXTAM_taln"
      },
      "execution_count": 5,
      "outputs": []
    },
    {
      "cell_type": "code",
      "source": [
        "import itertools as it"
      ],
      "metadata": {
        "id": "ri2rb8024ioZ"
      },
      "execution_count": 6,
      "outputs": []
    },
    {
      "cell_type": "code",
      "source": [
        "window = list(it.chain(*[sliding_window(txt) for txt in headlines[:10000]]))"
      ],
      "metadata": {
        "id": "SPW1hW-94MJp"
      },
      "execution_count": 7,
      "outputs": []
    },
    {
      "cell_type": "code",
      "source": [
        "char = pd.DataFrame(window)[0].unique()"
      ],
      "metadata": {
        "id": "680Uf9Gj4WT_"
      },
      "execution_count": 8,
      "outputs": []
    },
    {
      "cell_type": "code",
      "source": [
        "mapping = {char : idx for idx,char in enumerate(char) }\n"
      ],
      "metadata": {
        "id": "fy9wreLC5KbI"
      },
      "execution_count": 9,
      "outputs": []
    },
    {
      "cell_type": "code",
      "source": [
        "# [mapping[w[0]] for w in window]"
      ],
      "metadata": {
        "id": "JU3N_Vpi87iZ"
      },
      "execution_count": 10,
      "outputs": []
    },
    {
      "cell_type": "code",
      "source": [
        "integer_in = np.array([mapping[w[0]] for w in window])"
      ],
      "metadata": {
        "id": "mEW5htWb8G72"
      },
      "execution_count": 11,
      "outputs": []
    },
    {
      "cell_type": "code",
      "source": [
        "integer_out = np.array([mapping[w[1]] for w in window])"
      ],
      "metadata": {
        "id": "bwrdaNVo9a3Q"
      },
      "execution_count": 12,
      "outputs": []
    },
    {
      "cell_type": "code",
      "source": [
        "num_letters = len(mapping)\n",
        "num_letters"
      ],
      "metadata": {
        "id": "wvODLIfj9jiZ",
        "outputId": "80aea491-7aa0-4a1b-efea-ee7462717c2c",
        "colab": {
          "base_uri": "https://localhost:8080/"
        }
      },
      "execution_count": 13,
      "outputs": [
        {
          "output_type": "execute_result",
          "data": {
            "text/plain": [
              "37"
            ]
          },
          "metadata": {},
          "execution_count": 13
        }
      ]
    },
    {
      "cell_type": "code",
      "source": [
        "emb_layer = tf.keras.layers.Embedding(num_letters,2,input_length=1 )\n",
        "model = tf.keras.Sequential(emb_layer)"
      ],
      "metadata": {
        "id": "v5EfvLBU9t01"
      },
      "execution_count": 14,
      "outputs": []
    },
    {
      "cell_type": "code",
      "source": [
        "out_array = model.predict(integer_in)\n",
        "out_array.shape"
      ],
      "metadata": {
        "id": "gjyjsX58__TS",
        "outputId": "767ef818-f017-421b-c377-4bd3f4e266c8",
        "colab": {
          "base_uri": "https://localhost:8080/"
        }
      },
      "execution_count": 15,
      "outputs": [
        {
          "output_type": "execute_result",
          "data": {
            "text/plain": [
              "(386880, 1, 2)"
            ]
          },
          "metadata": {},
          "execution_count": 15
        }
      ]
    },
    {
      "cell_type": "code",
      "source": [
        "import matplotlib.pyplot as plt\n",
        "\n"
      ],
      "metadata": {
        "id": "I9_qhU-g_qwC"
      },
      "execution_count": 16,
      "outputs": []
    },
    {
      "cell_type": "code",
      "source": [
        "idx_of_char = np.array(list(mapping.values())) \n",
        "idx_of_char "
      ],
      "metadata": {
        "id": "swstZEPcXYGd",
        "outputId": "d3e371d0-5400-4731-9d8a-a5ad4089a811",
        "colab": {
          "base_uri": "https://localhost:8080/"
        }
      },
      "execution_count": 17,
      "outputs": [
        {
          "output_type": "execute_result",
          "data": {
            "text/plain": [
              "array([ 0,  1,  2,  3,  4,  5,  6,  7,  8,  9, 10, 11, 12, 13, 14, 15, 16,\n",
              "       17, 18, 19, 20, 21, 22, 23, 24, 25, 26, 27, 28, 29, 30, 31, 32, 33,\n",
              "       34, 35, 36])"
            ]
          },
          "metadata": {},
          "execution_count": 17
        }
      ]
    },
    {
      "cell_type": "code",
      "source": [
        "translator = {idx:char for char,idx in mapping.items()}\n"
      ],
      "metadata": {
        "id": "Z-XchvS0Hc7-"
      },
      "execution_count": 18,
      "outputs": []
    },
    {
      "cell_type": "code",
      "source": [
        "idx_of_char = np.array([list(mapping.values())]).T \n",
        "idx_of_char.shape \n"
      ],
      "metadata": {
        "id": "JLGkLs5_cUM3",
        "outputId": "fd25bef3-5451-43cd-fbc8-1ec6480167a6",
        "colab": {
          "base_uri": "https://localhost:8080/"
        }
      },
      "execution_count": 19,
      "outputs": [
        {
          "output_type": "execute_result",
          "data": {
            "text/plain": [
              "(37, 1)"
            ]
          },
          "metadata": {},
          "execution_count": 19
        }
      ]
    },
    {
      "cell_type": "code",
      "source": [
        "\n",
        "preds = model.predict(idx_of_char)\n"
      ],
      "metadata": {
        "id": "4T9xZPdbiZq6"
      },
      "execution_count": 20,
      "outputs": []
    },
    {
      "cell_type": "code",
      "source": [
        "plt.scatter(preds[:,0,0],preds[:,0,1],alpha=.1)\n",
        "for i , idx in enumerate(idx_of_char):\n",
        "  plt.text(preds[i,0,0], preds[i,0,1],translator[idx[0]])\n",
        "plt.show()  "
      ],
      "metadata": {
        "id": "1wB8iG1Sdeqa",
        "outputId": "025a12d0-5695-4869-df3a-8ea1b6865443",
        "colab": {
          "base_uri": "https://localhost:8080/",
          "height": 265
        }
      },
      "execution_count": 21,
      "outputs": [
        {
          "output_type": "display_data",
          "data": {
            "text/plain": [
              "<Figure size 432x288 with 1 Axes>"
            ],
            "image/png": "[encoded data removed]"
          },
          "metadata": {
            "needs_background": "light"
          }
        }
      ]
    },
    {
      "cell_type": "code",
      "source": [
        "\n",
        "layers = [\n",
        "    emb_layer,\n",
        "    tf.keras.layers.Flatten(),\n",
        "    tf.keras.layers.Dense(num_letters,activation='softmax')\n",
        "]\n",
        "model_pred = tf.keras.Sequential(layers) "
      ],
      "metadata": {
        "id": "-U_C1H9TdluQ"
      },
      "execution_count": 22,
      "outputs": []
    },
    {
      "cell_type": "code",
      "source": [
        "model_pred.summary()"
      ],
      "metadata": {
        "id": "o26bo-SfkLuC",
        "outputId": "e5a98174-b7cd-44f5-c307-613da31ca0c8",
        "colab": {
          "base_uri": "https://localhost:8080/"
        }
      },
      "execution_count": 23,
      "outputs": [
        {
          "output_type": "stream",
          "name": "stdout",
          "text": [
            "Model: \"sequential_1\"\n",
            "_________________________________________________________________\n",
            " Layer (type)                Output Shape              Param #   \n",
            "=================================================================\n",
            " embedding (Embedding)       (None, 1, 2)              74        \n",
            "                                                                 \n",
            " flatten (Flatten)           (None, 2)                 0         \n",
            "                                                                 \n",
            " dense (Dense)               (None, 37)                111       \n",
            "                                                                 \n",
            "=================================================================\n",
            "Total params: 185\n",
            "Trainable params: 185\n",
            "Non-trainable params: 0\n",
            "_________________________________________________________________\n"
          ]
        }
      ]
    },
    {
      "cell_type": "code",
      "source": [
        "adam = tf.keras.optimizers.Adam(learning_rate=0.001)\n",
        "model_pred.compile(adam,\"categorical_crossentropy\",metrics=['accuracy'])"
      ],
      "metadata": {
        "id": "djS0a0UckoJY"
      },
      "execution_count": 24,
      "outputs": []
    },
    {
      "cell_type": "code",
      "source": [
        "out = model_pred.predict(integer_in)\n",
        "out.shape"
      ],
      "metadata": {
        "id": "MwSCUe-3kPdI",
        "outputId": "7bd79e3e-7504-442d-d6aa-287337d24935",
        "colab": {
          "base_uri": "https://localhost:8080/"
        }
      },
      "execution_count": 25,
      "outputs": [
        {
          "output_type": "execute_result",
          "data": {
            "text/plain": [
              "(386880, 37)"
            ]
          },
          "metadata": {},
          "execution_count": 25
        }
      ]
    },
    {
      "cell_type": "code",
      "source": [
        "integer_out.shape"
      ],
      "metadata": {
        "id": "Gl8ZY9mglhEe",
        "outputId": "17e280ac-e825-447c-8d29-67282ab2a8db",
        "colab": {
          "base_uri": "https://localhost:8080/"
        }
      },
      "execution_count": 26,
      "outputs": [
        {
          "output_type": "execute_result",
          "data": {
            "text/plain": [
              "(386880,)"
            ]
          },
          "metadata": {},
          "execution_count": 26
        }
      ]
    },
    {
      "cell_type": "code",
      "source": [
        "from sklearn.preprocessing import OneHotEncoder\n",
        "integer_out = integer_out.reshape(-1,1)\n",
        "integer_out.shape"
      ],
      "metadata": {
        "id": "wFdLjn-4ke2n",
        "outputId": "21a5203d-9796-4ece-a27e-0776d8de2bef",
        "colab": {
          "base_uri": "https://localhost:8080/"
        }
      },
      "execution_count": 27,
      "outputs": [
        {
          "output_type": "execute_result",
          "data": {
            "text/plain": [
              "(386880, 1)"
            ]
          },
          "metadata": {},
          "execution_count": 27
        }
      ]
    },
    {
      "cell_type": "code",
      "source": [
        "to_predict = OneHotEncoder(sparse=False).fit_transform(integer_out)\n",
        "to_predict"
      ],
      "metadata": {
        "id": "l6dH9gzilMr3",
        "outputId": "88689866-7edb-4ed4-ca37-6e5143e0f3f2",
        "colab": {
          "base_uri": "https://localhost:8080/"
        }
      },
      "execution_count": 28,
      "outputs": [
        {
          "output_type": "execute_result",
          "data": {
            "text/plain": [
              "array([[0., 1., 0., ..., 0., 0., 0.],\n",
              "       [1., 0., 0., ..., 0., 0., 0.],\n",
              "       [0., 0., 1., ..., 0., 0., 0.],\n",
              "       ...,\n",
              "       [0., 0., 0., ..., 0., 0., 0.],\n",
              "       [0., 0., 0., ..., 0., 0., 0.],\n",
              "       [0., 0., 0., ..., 0., 0., 0.]])"
            ]
          },
          "metadata": {},
          "execution_count": 28
        }
      ]
    },
    {
      "cell_type": "code",
      "source": [
        "model_pred.fit(integer_in, to_predict, epochs=30)"
      ],
      "metadata": {
        "id": "QY8LLF-bxcFM",
        "outputId": "d9fb94ed-96f7-47a5-b3cd-2159d8cb83d2",
        "colab": {
          "base_uri": "https://localhost:8080/"
        }
      },
      "execution_count": 29,
      "outputs": [
        {
          "output_type": "stream",
          "name": "stdout",
          "text": [
            "Epoch 1/30\n",
            "12090/12090 [==============================] - 24s 2ms/step - loss: 2.7619 - accuracy: 0.1781\n",
            "Epoch 2/30\n",
            "12090/12090 [==============================] - 20s 2ms/step - loss: 2.6755 - accuracy: 0.1917\n",
            "Epoch 3/30\n",
            "12090/12090 [==============================] - 19s 2ms/step - loss: 2.6703 - accuracy: 0.1913\n",
            "Epoch 4/30\n",
            "12090/12090 [==============================] - 20s 2ms/step - loss: 2.6687 - accuracy: 0.1917\n",
            "Epoch 5/30\n",
            "12090/12090 [==============================] - 19s 2ms/step - loss: 2.6678 - accuracy: 0.1962\n",
            "Epoch 6/30\n",
            "12090/12090 [==============================] - 21s 2ms/step - loss: 2.6673 - accuracy: 0.1958\n",
            "Epoch 7/30\n",
            "12090/12090 [==============================] - 20s 2ms/step - loss: 2.6668 - accuracy: 0.1961\n",
            "Epoch 8/30\n",
            "12090/12090 [==============================] - 19s 2ms/step - loss: 2.6664 - accuracy: 0.1963\n",
            "Epoch 9/30\n",
            "12090/12090 [==============================] - 19s 2ms/step - loss: 2.6660 - accuracy: 0.1963\n",
            "Epoch 10/30\n",
            "12090/12090 [==============================] - 19s 2ms/step - loss: 2.6658 - accuracy: 0.1964\n",
            "Epoch 11/30\n",
            "12090/12090 [==============================] - 19s 2ms/step - loss: 2.6655 - accuracy: 0.1964\n",
            "Epoch 12/30\n",
            "12090/12090 [==============================] - 20s 2ms/step - loss: 2.6653 - accuracy: 0.1966\n",
            "Epoch 13/30\n",
            "12090/12090 [==============================] - 19s 2ms/step - loss: 2.6651 - accuracy: 0.1964\n",
            "Epoch 14/30\n",
            "12090/12090 [==============================] - 19s 2ms/step - loss: 2.6648 - accuracy: 0.1964\n",
            "Epoch 15/30\n",
            "12090/12090 [==============================] - 19s 2ms/step - loss: 2.6645 - accuracy: 0.1966\n",
            "Epoch 16/30\n",
            "12090/12090 [==============================] - 19s 2ms/step - loss: 2.6644 - accuracy: 0.1966\n",
            "Epoch 17/30\n",
            "12090/12090 [==============================] - 19s 2ms/step - loss: 2.6641 - accuracy: 0.1965\n",
            "Epoch 18/30\n",
            "12090/12090 [==============================] - 19s 2ms/step - loss: 2.6639 - accuracy: 0.1968\n",
            "Epoch 19/30\n",
            "12090/12090 [==============================] - 19s 2ms/step - loss: 2.6637 - accuracy: 0.1966\n",
            "Epoch 20/30\n",
            "12090/12090 [==============================] - 19s 2ms/step - loss: 2.6633 - accuracy: 0.1965\n",
            "Epoch 21/30\n",
            "12090/12090 [==============================] - 22s 2ms/step - loss: 2.6631 - accuracy: 0.1965\n",
            "Epoch 22/30\n",
            "12090/12090 [==============================] - 20s 2ms/step - loss: 2.6627 - accuracy: 0.1964\n",
            "Epoch 23/30\n",
            "12090/12090 [==============================] - 19s 2ms/step - loss: 2.6624 - accuracy: 0.1966\n",
            "Epoch 24/30\n",
            "12090/12090 [==============================] - 19s 2ms/step - loss: 2.6622 - accuracy: 0.1962\n",
            "Epoch 25/30\n",
            "12090/12090 [==============================] - 19s 2ms/step - loss: 2.6619 - accuracy: 0.1964\n",
            "Epoch 26/30\n",
            "12090/12090 [==============================] - 20s 2ms/step - loss: 2.6615 - accuracy: 0.1967\n",
            "Epoch 27/30\n",
            "12090/12090 [==============================] - 19s 2ms/step - loss: 2.6612 - accuracy: 0.1961\n",
            "Epoch 28/30\n",
            "12090/12090 [==============================] - 19s 2ms/step - loss: 2.6609 - accuracy: 0.1964\n",
            "Epoch 29/30\n",
            "12090/12090 [==============================] - 19s 2ms/step - loss: 2.6607 - accuracy: 0.1959\n",
            "Epoch 30/30\n",
            "12090/12090 [==============================] - 19s 2ms/step - loss: 2.6604 - accuracy: 0.1959\n"
          ]
        },
        {
          "output_type": "execute_result",
          "data": {
            "text/plain": [
              "<keras.callbacks.History at 0x7ff99f7db9d0>"
            ]
          },
          "metadata": {},
          "execution_count": 29
        }
      ]
    },
    {
      "cell_type": "code",
      "source": [
        "preds = model.predict(idx_of_char)\n",
        "plt.scatter(preds[:,0,0],preds[:,0,1],alpha=0)\n",
        "for i , idx in enumerate(idx_of_char):\n",
        "  plt.text(preds[i,0,0], preds[i,0,1],translator[idx[0]])\n",
        "plt.show()"
      ],
      "metadata": {
        "id": "hgfmtIcvxdrX",
        "outputId": "e74ccfc7-2e9f-4625-cb65-df28bb67eea7",
        "colab": {
          "base_uri": "https://localhost:8080/",
          "height": 269
        }
      },
      "execution_count": 31,
      "outputs": [
        {
          "output_type": "display_data",
          "data": {
            "text/plain": [
              "<Figure size 432x288 with 1 Axes>"
            ],
            "image/png": "[encoded data removed]"
          },
          "metadata": {
            "needs_background": "light"
          }
        }
      ]
    },
    {
      "cell_type": "code",
      "source": [],
      "metadata": {
        "id": "MzNOtOhN26v6"
      },
      "execution_count": null,
      "outputs": []
    }
  ]
}