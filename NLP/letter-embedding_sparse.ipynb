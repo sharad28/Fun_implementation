{
  "nbformat": 4,
  "nbformat_minor": 0,
  "metadata": {
    "colab": {
      "provenance": [],
      "authorship_tag": "ABX9TyODYdn66N46I+cwdtotLWGQ",
      "include_colab_link": true
    },
    "kernelspec": {
      "name": "python3",
      "display_name": "Python 3"
    },
    "language_info": {
      "name": "python"
    }
  },
  "cells": [
    {
      "cell_type": "markdown",
      "metadata": {
        "id": "view-in-github",
        "colab_type": "text"
      },
      "source": [
        "<a href=\"https://colab.research.google.com/github/sharad28/Fun_implementation/blob/main/NLP/letter-embedding_sparse.ipynb\" target=\"_parent\"><img src=\"https://colab.research.google.com/assets/colab-badge.svg\" alt=\"Open In Colab\"/></a>"
      ]
    },
    {
      "cell_type": "code",
      "execution_count": 1,
      "metadata": {
        "id": "3hUyY2PlljAy"
      },
      "outputs": [],
      "source": [
        "import pandas as pd\n",
        "import numpy as np\n",
        "import tensorflow as tf\n",
        "import urllib.request as req"
      ]
    },
    {
      "cell_type": "code",
      "source": [
        "#download csv file from https://dataverse.harvard.edu/dataset.xhtml?persistentId=doi:10.7910/DVN/SYBGZL\n",
        "filename = '/content/abcnews-date-text.csv'"
      ],
      "metadata": {
        "id": "KIvAnD5el5ng"
      },
      "execution_count": 3,
      "outputs": []
    },
    {
      "cell_type": "code",
      "source": [
        "headlines = pd.read_csv(filename)\n",
        "headlines = headlines['headline_text']"
      ],
      "metadata": {
        "id": "FYcRA4dXtRU_"
      },
      "execution_count": 4,
      "outputs": []
    },
    {
      "cell_type": "code",
      "source": [
        "headlines.head()    "
      ],
      "metadata": {
        "id": "wbkDgSJ6tWWY",
        "outputId": "8ee4ae8b-2afc-434b-bbea-bf8fd234d6ae",
        "colab": {
          "base_uri": "https://localhost:8080/"
        }
      },
      "execution_count": 5,
      "outputs": [
        {
          "output_type": "execute_result",
          "data": {
            "text/plain": [
              "0    aba decides against community broadcasting lic...\n",
              "1       act fire witnesses must be aware of defamation\n",
              "2       a g calls for infrastructure protection summit\n",
              "3             air nz staff in aust strike for pay rise\n",
              "4        air nz strike to affect australian travellers\n",
              "Name: headline_text, dtype: object"
            ]
          },
          "metadata": {},
          "execution_count": 5
        }
      ]
    },
    {
      "cell_type": "code",
      "source": [
        "def sliding_window(text):\n",
        "  N = len(text) - 1\n",
        "  for i in range(N):\n",
        "    yield text[i],text[i+1]\n"
      ],
      "metadata": {
        "id": "ONbXTAM_taln"
      },
      "execution_count": 6,
      "outputs": []
    },
    {
      "cell_type": "code",
      "source": [
        "import itertools as it"
      ],
      "metadata": {
        "id": "ri2rb8024ioZ"
      },
      "execution_count": 7,
      "outputs": []
    },
    {
      "cell_type": "code",
      "source": [
        "window = list(it.chain(*[sliding_window(txt) for txt in headlines[:10000]]))"
      ],
      "metadata": {
        "id": "SPW1hW-94MJp"
      },
      "execution_count": 8,
      "outputs": []
    },
    {
      "cell_type": "code",
      "source": [
        "char = pd.DataFrame(window)[0].unique()"
      ],
      "metadata": {
        "id": "680Uf9Gj4WT_"
      },
      "execution_count": 10,
      "outputs": []
    },
    {
      "cell_type": "code",
      "source": [
        "mapping = {char : idx for idx,char in enumerate(char) }\n"
      ],
      "metadata": {
        "id": "fy9wreLC5KbI"
      },
      "execution_count": 11,
      "outputs": []
    },
    {
      "cell_type": "code",
      "source": [
        "# [mapping[w[0]] for w in window]"
      ],
      "metadata": {
        "id": "JU3N_Vpi87iZ"
      },
      "execution_count": 14,
      "outputs": []
    },
    {
      "cell_type": "code",
      "source": [
        "integer_in = np.array([mapping[w[0]] for w in window])\n",
        "integer_in.shape"
      ],
      "metadata": {
        "id": "mEW5htWb8G72",
        "outputId": "95cc8c5c-813d-4c1c-b9cf-965e76e39a3b",
        "colab": {
          "base_uri": "https://localhost:8080/"
        }
      },
      "execution_count": 20,
      "outputs": [
        {
          "output_type": "execute_result",
          "data": {
            "text/plain": [
              "(386880,)"
            ]
          },
          "metadata": {},
          "execution_count": 20
        }
      ]
    },
    {
      "cell_type": "code",
      "source": [
        "integer_out = np.array([mapping[w[1]] for w in window])\n",
        "integer_out"
      ],
      "metadata": {
        "id": "bwrdaNVo9a3Q",
        "outputId": "1e96aab9-1c68-4fe5-fa76-7b5314ff7cb7",
        "colab": {
          "base_uri": "https://localhost:8080/"
        }
      },
      "execution_count": 45,
      "outputs": [
        {
          "output_type": "execute_result",
          "data": {
            "text/plain": [
              "array([ 1,  0,  2, ..., 16, 11, 19])"
            ]
          },
          "metadata": {},
          "execution_count": 45
        }
      ]
    },
    {
      "cell_type": "code",
      "source": [
        "num_letters = len(mapping)\n",
        "num_letters"
      ],
      "metadata": {
        "id": "wvODLIfj9jiZ",
        "outputId": "7bf96b76-ec30-45bc-bc21-3e7b21ae4e87",
        "colab": {
          "base_uri": "https://localhost:8080/"
        }
      },
      "execution_count": 17,
      "outputs": [
        {
          "output_type": "execute_result",
          "data": {
            "text/plain": [
              "37"
            ]
          },
          "metadata": {},
          "execution_count": 17
        }
      ]
    },
    {
      "cell_type": "code",
      "source": [
        "emb_layer = tf.keras.layers.Embedding(num_letters,2,input_length=1 )\n",
        "model = tf.keras.Sequential(emb_layer)"
      ],
      "metadata": {
        "id": "v5EfvLBU9t01"
      },
      "execution_count": 18,
      "outputs": []
    },
    {
      "cell_type": "code",
      "source": [
        "out_array = model.predict(integer_in)\n",
        "out_array.shape"
      ],
      "metadata": {
        "id": "gjyjsX58__TS",
        "outputId": "092d3d0c-efbf-4d6d-e8c9-b9433d49fe32",
        "colab": {
          "base_uri": "https://localhost:8080/"
        }
      },
      "execution_count": 19,
      "outputs": [
        {
          "output_type": "execute_result",
          "data": {
            "text/plain": [
              "(386880, 1, 2)"
            ]
          },
          "metadata": {},
          "execution_count": 19
        }
      ]
    },
    {
      "cell_type": "code",
      "source": [
        "import matplotlib.pyplot as plt\n",
        "\n"
      ],
      "metadata": {
        "id": "I9_qhU-g_qwC"
      },
      "execution_count": 24,
      "outputs": []
    },
    {
      "cell_type": "code",
      "source": [
        "idx_of_char = np.array(list(mapping.values())) \n",
        "idx_of_char "
      ],
      "metadata": {
        "id": "swstZEPcXYGd",
        "outputId": "3f54d3d1-ce06-4a1e-c98a-3fb36d5550d7",
        "colab": {
          "base_uri": "https://localhost:8080/"
        }
      },
      "execution_count": 25,
      "outputs": [
        {
          "output_type": "execute_result",
          "data": {
            "text/plain": [
              "array([ 0,  1,  2,  3,  4,  5,  6,  7,  8,  9, 10, 11, 12, 13, 14, 15, 16,\n",
              "       17, 18, 19, 20, 21, 22, 23, 24, 25, 26, 27, 28, 29, 30, 31, 32, 33,\n",
              "       34, 35, 36])"
            ]
          },
          "metadata": {},
          "execution_count": 25
        }
      ]
    },
    {
      "cell_type": "code",
      "source": [
        "translator = {idx:char for char,idx in mapping.items()}\n",
        "translator"
      ],
      "metadata": {
        "id": "Z-XchvS0Hc7-",
        "outputId": "116a64cf-9848-465a-9835-ca2140511426",
        "colab": {
          "base_uri": "https://localhost:8080/"
        }
      },
      "execution_count": 27,
      "outputs": [
        {
          "output_type": "execute_result",
          "data": {
            "text/plain": [
              "{0: 'a',\n",
              " 1: 'b',\n",
              " 2: ' ',\n",
              " 3: 'd',\n",
              " 4: 'e',\n",
              " 5: 'c',\n",
              " 6: 'i',\n",
              " 7: 's',\n",
              " 8: 'g',\n",
              " 9: 'n',\n",
              " 10: 't',\n",
              " 11: 'o',\n",
              " 12: 'm',\n",
              " 13: 'u',\n",
              " 14: 'y',\n",
              " 15: 'r',\n",
              " 16: 'l',\n",
              " 17: 'f',\n",
              " 18: 'w',\n",
              " 19: 'p',\n",
              " 20: 'z',\n",
              " 21: 'k',\n",
              " 22: 'v',\n",
              " 23: 'j',\n",
              " 24: 'h',\n",
              " 25: 'q',\n",
              " 26: '1',\n",
              " 27: '0',\n",
              " 28: 'x',\n",
              " 29: '8',\n",
              " 30: '3',\n",
              " 31: '4',\n",
              " 32: '5',\n",
              " 33: '2',\n",
              " 34: '6',\n",
              " 35: '7',\n",
              " 36: '9'}"
            ]
          },
          "metadata": {},
          "execution_count": 27
        }
      ]
    },
    {
      "cell_type": "code",
      "source": [
        "idx_of_char = np.array([list(mapping.values())]).T \n",
        "idx_of_char.shape"
      ],
      "metadata": {
        "id": "JLGkLs5_cUM3",
        "outputId": "89f88888-3826-459d-d4bd-44963294cf76",
        "colab": {
          "base_uri": "https://localhost:8080/"
        }
      },
      "execution_count": 30,
      "outputs": [
        {
          "output_type": "execute_result",
          "data": {
            "text/plain": [
              "(37, 1)"
            ]
          },
          "metadata": {},
          "execution_count": 30
        }
      ]
    },
    {
      "cell_type": "code",
      "source": [
        "\n",
        "preds = model.predict(idx_of_char)\n",
        "preds.shape"
      ],
      "metadata": {
        "id": "4T9xZPdbiZq6",
        "outputId": "13dac87f-2765-4a07-d938-795d90812ab4",
        "colab": {
          "base_uri": "https://localhost:8080/"
        }
      },
      "execution_count": 35,
      "outputs": [
        {
          "output_type": "execute_result",
          "data": {
            "text/plain": [
              "(37, 1, 2)"
            ]
          },
          "metadata": {},
          "execution_count": 35
        }
      ]
    },
    {
      "cell_type": "code",
      "source": [
        "plt.scatter(preds[:,0,0],preds[:,0,1],alpha=.1)\n",
        "# plt.subplots(figsize=(6, 2))\n",
        "for i , idx in enumerate(idx_of_char):\n",
        "  plt.text(preds[i,0,0], preds[i,0,1],translator[idx[0]])\n",
        "  \n",
        "plt.show()  "
      ],
      "metadata": {
        "id": "1wB8iG1Sdeqa",
        "outputId": "9198823e-e0b6-4342-e0f6-47c6ea7f105f",
        "colab": {
          "base_uri": "https://localhost:8080/",
          "height": 265
        }
      },
      "execution_count": 44,
      "outputs": [
        {
          "output_type": "display_data",
          "data": {
            "text/plain": [
              "<Figure size 432x288 with 1 Axes>"
            ],
            "image/png": "[encoded data removed]"
          },
          "metadata": {
            "needs_background": "light"
          }
        }
      ]
    },
    {
      "cell_type": "code",
      "source": [
        "\n",
        "layers = [\n",
        "    emb_layer,\n",
        "    tf.keras.layers.Flatten(),\n",
        "    tf.keras.layers.Dense(num_letters,activation='softmax')\n",
        "]\n",
        "model_pred = tf.keras.Sequential(layers) "
      ],
      "metadata": {
        "id": "-U_C1H9TdluQ"
      },
      "execution_count": 42,
      "outputs": []
    },
    {
      "cell_type": "code",
      "source": [
        "model_pred.summary()"
      ],
      "metadata": {
        "id": "o26bo-SfkLuC",
        "outputId": "b046cf12-4106-4be8-b50f-6171c9383693",
        "colab": {
          "base_uri": "https://localhost:8080/"
        }
      },
      "execution_count": 43,
      "outputs": [
        {
          "output_type": "stream",
          "name": "stdout",
          "text": [
            "Model: \"sequential_1\"\n",
            "_________________________________________________________________\n",
            " Layer (type)                Output Shape              Param #   \n",
            "=================================================================\n",
            " embedding (Embedding)       (None, 1, 2)              74        \n",
            "                                                                 \n",
            " flatten (Flatten)           (None, 2)                 0         \n",
            "                                                                 \n",
            " dense (Dense)               (None, 37)                111       \n",
            "                                                                 \n",
            "=================================================================\n",
            "Total params: 185\n",
            "Trainable params: 185\n",
            "Non-trainable params: 0\n",
            "_________________________________________________________________\n"
          ]
        }
      ]
    },
    {
      "cell_type": "code",
      "source": [
        "adam = tf.keras.optimizers.Adam(learning_rate=0.001)\n",
        "model_pred.compile(adam,\"sparse_categorical_crossentropy\",metrics=['accuracy'])"
      ],
      "metadata": {
        "id": "djS0a0UckoJY"
      },
      "execution_count": 46,
      "outputs": []
    },
    {
      "cell_type": "code",
      "source": [
        "out = model_pred.predict(integer_in)\n",
        "out.shape"
      ],
      "metadata": {
        "id": "MwSCUe-3kPdI",
        "outputId": "71050635-f18c-4942-d3d3-6f70c6490ee4",
        "colab": {
          "base_uri": "https://localhost:8080/"
        }
      },
      "execution_count": 47,
      "outputs": [
        {
          "output_type": "execute_result",
          "data": {
            "text/plain": [
              "(386880, 37)"
            ]
          },
          "metadata": {},
          "execution_count": 47
        }
      ]
    },
    {
      "cell_type": "code",
      "source": [
        "integer_out.shape"
      ],
      "metadata": {
        "id": "Gl8ZY9mglhEe",
        "outputId": "a181f4ef-6a20-4e58-c564-c3b62ee8f6fa",
        "colab": {
          "base_uri": "https://localhost:8080/"
        }
      },
      "execution_count": 48,
      "outputs": [
        {
          "output_type": "execute_result",
          "data": {
            "text/plain": [
              "(386880,)"
            ]
          },
          "metadata": {},
          "execution_count": 48
        }
      ]
    },
    {
      "cell_type": "code",
      "source": [
        "from sklearn.preprocessing import OneHotEncoder\n",
        "integer_out = integer_out.reshape(-1,1)\n",
        "integer_out.shape"
      ],
      "metadata": {
        "id": "wFdLjn-4ke2n",
        "outputId": "21a5203d-9796-4ece-a27e-0776d8de2bef",
        "colab": {
          "base_uri": "https://localhost:8080/"
        }
      },
      "execution_count": null,
      "outputs": [
        {
          "output_type": "execute_result",
          "data": {
            "text/plain": [
              "(386880, 1)"
            ]
          },
          "metadata": {},
          "execution_count": 27
        }
      ]
    },
    {
      "cell_type": "code",
      "source": [
        "to_predict = OneHotEncoder(sparse=False).fit_transform(integer_out)\n",
        "to_predict"
      ],
      "metadata": {
        "id": "l6dH9gzilMr3",
        "outputId": "88689866-7edb-4ed4-ca37-6e5143e0f3f2",
        "colab": {
          "base_uri": "https://localhost:8080/"
        }
      },
      "execution_count": null,
      "outputs": [
        {
          "output_type": "execute_result",
          "data": {
            "text/plain": [
              "array([[0., 1., 0., ..., 0., 0., 0.],\n",
              "       [1., 0., 0., ..., 0., 0., 0.],\n",
              "       [0., 0., 1., ..., 0., 0., 0.],\n",
              "       ...,\n",
              "       [0., 0., 0., ..., 0., 0., 0.],\n",
              "       [0., 0., 0., ..., 0., 0., 0.],\n",
              "       [0., 0., 0., ..., 0., 0., 0.]])"
            ]
          },
          "metadata": {},
          "execution_count": 28
        }
      ]
    },
    {
      "cell_type": "code",
      "source": [
        "model_pred.fit(integer_in, integer_out, epochs=30)"
      ],
      "metadata": {
        "id": "QY8LLF-bxcFM",
        "outputId": "849f47d4-c856-4786-a92a-03d1cbd2dedf",
        "colab": {
          "base_uri": "https://localhost:8080/"
        }
      },
      "execution_count": 49,
      "outputs": [
        {
          "output_type": "stream",
          "name": "stdout",
          "text": [
            "Epoch 1/30\n",
            "12090/12090 [==============================] - 22s 2ms/step - loss: 2.7421 - accuracy: 0.1826\n",
            "Epoch 2/30\n",
            "12090/12090 [==============================] - 21s 2ms/step - loss: 2.6712 - accuracy: 0.1901\n",
            "Epoch 3/30\n",
            "12090/12090 [==============================] - 21s 2ms/step - loss: 2.6683 - accuracy: 0.1947\n",
            "Epoch 4/30\n",
            "12090/12090 [==============================] - 22s 2ms/step - loss: 2.6672 - accuracy: 0.1964\n",
            "Epoch 5/30\n",
            "12090/12090 [==============================] - 21s 2ms/step - loss: 2.6664 - accuracy: 0.1962\n",
            "Epoch 6/30\n",
            "12090/12090 [==============================] - 21s 2ms/step - loss: 2.6658 - accuracy: 0.1962\n",
            "Epoch 7/30\n",
            "12090/12090 [==============================] - 22s 2ms/step - loss: 2.6653 - accuracy: 0.1962\n",
            "Epoch 8/30\n",
            "12090/12090 [==============================] - 21s 2ms/step - loss: 2.6649 - accuracy: 0.1965\n",
            "Epoch 9/30\n",
            "12090/12090 [==============================] - 21s 2ms/step - loss: 2.6646 - accuracy: 0.1963\n",
            "Epoch 10/30\n",
            "12090/12090 [==============================] - 21s 2ms/step - loss: 2.6643 - accuracy: 0.1966\n",
            "Epoch 11/30\n",
            "12090/12090 [==============================] - 21s 2ms/step - loss: 2.6639 - accuracy: 0.1964\n",
            "Epoch 12/30\n",
            "12090/12090 [==============================] - 21s 2ms/step - loss: 2.6637 - accuracy: 0.1963\n",
            "Epoch 13/30\n",
            "12090/12090 [==============================] - 21s 2ms/step - loss: 2.6634 - accuracy: 0.1964\n",
            "Epoch 14/30\n",
            "12090/12090 [==============================] - 24s 2ms/step - loss: 2.6632 - accuracy: 0.1965\n",
            "Epoch 15/30\n",
            "12090/12090 [==============================] - 22s 2ms/step - loss: 2.6629 - accuracy: 0.1963\n",
            "Epoch 16/30\n",
            "12090/12090 [==============================] - 22s 2ms/step - loss: 2.6626 - accuracy: 0.1964\n",
            "Epoch 17/30\n",
            "12090/12090 [==============================] - 21s 2ms/step - loss: 2.6623 - accuracy: 0.1964\n",
            "Epoch 18/30\n",
            "12090/12090 [==============================] - 21s 2ms/step - loss: 2.6621 - accuracy: 0.1961\n",
            "Epoch 19/30\n",
            "12090/12090 [==============================] - 22s 2ms/step - loss: 2.6617 - accuracy: 0.1959\n",
            "Epoch 20/30\n",
            "12090/12090 [==============================] - 21s 2ms/step - loss: 2.6615 - accuracy: 0.1963\n",
            "Epoch 21/30\n",
            "12090/12090 [==============================] - 21s 2ms/step - loss: 2.6611 - accuracy: 0.1957\n",
            "Epoch 22/30\n",
            "12090/12090 [==============================] - 21s 2ms/step - loss: 2.6609 - accuracy: 0.1955\n",
            "Epoch 23/30\n",
            "12090/12090 [==============================] - 22s 2ms/step - loss: 2.6605 - accuracy: 0.1953\n",
            "Epoch 24/30\n",
            "12090/12090 [==============================] - 22s 2ms/step - loss: 2.6603 - accuracy: 0.1955\n",
            "Epoch 25/30\n",
            "12090/12090 [==============================] - 21s 2ms/step - loss: 2.6600 - accuracy: 0.1954\n",
            "Epoch 26/30\n",
            "12090/12090 [==============================] - 21s 2ms/step - loss: 2.6598 - accuracy: 0.1953\n",
            "Epoch 27/30\n",
            "12090/12090 [==============================] - 21s 2ms/step - loss: 2.6595 - accuracy: 0.1957\n",
            "Epoch 28/30\n",
            "12090/12090 [==============================] - 22s 2ms/step - loss: 2.6592 - accuracy: 0.1956\n",
            "Epoch 29/30\n",
            "12090/12090 [==============================] - 22s 2ms/step - loss: 2.6589 - accuracy: 0.1957\n",
            "Epoch 30/30\n",
            "12090/12090 [==============================] - 22s 2ms/step - loss: 2.6586 - accuracy: 0.1956\n"
          ]
        },
        {
          "output_type": "execute_result",
          "data": {
            "text/plain": [
              "<keras.callbacks.History at 0x7f5c6d43a5d0>"
            ]
          },
          "metadata": {},
          "execution_count": 49
        }
      ]
    },
    {
      "cell_type": "code",
      "source": [
        "preds = model.predict(idx_of_char)\n",
        "plt.scatter(preds[:,0,0],preds[:,0,1],alpha=0)\n",
        "for i , idx in enumerate(idx_of_char):\n",
        "  plt.text(preds[i,0,0], preds[i,0,1],translator[idx[0]])\n",
        "plt.show()"
      ],
      "metadata": {
        "id": "hgfmtIcvxdrX",
        "outputId": "fa50efa1-3d4e-4413-9bbb-539eb2d49060",
        "colab": {
          "base_uri": "https://localhost:8080/",
          "height": 265
        }
      },
      "execution_count": 51,
      "outputs": [
        {
          "output_type": "display_data",
          "data": {
            "text/plain": [
              "<Figure size 432x288 with 1 Axes>"
            ],
            "image/png": "[encoded data removed]"
          },
          "metadata": {
            "needs_background": "light"
          }
        }
      ]
    },
    {
      "cell_type": "code",
      "source": [],
      "metadata": {
        "id": "MzNOtOhN26v6"
      },
      "execution_count": null,
      "outputs": []
    }
  ]
}